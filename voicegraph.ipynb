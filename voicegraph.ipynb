{
 "cells": [
  {
   "cell_type": "code",
   "execution_count": 4,
   "metadata": {},
   "outputs": [],
   "source": [
    "def makevoicegraph(filepath,savename,date,stt):\n",
    "    \n",
    "    import warnings\n",
    "    warnings.filterwarnings(action='ignore') \n",
    "    from keras.models import load_model\n",
    "    from python_speech_features import mfcc\n",
    "    import matplotlib.pyplot as plt\n",
    "    from matplotlib import font_manager, rc\n",
    "    font_name = font_manager.FontProperties(fname=\"c:/Windows/Fonts/malgun.ttf\").get_name()\n",
    "    rc('font', family=font_name)\n",
    "    %matplotlib inline\n",
    "    import numpy as np\n",
    "    import scipy.io.wavfile as wav\n",
    "    import moviepy.editor as mp\n",
    "    import seaborn as sns\n",
    "    import pandas as pd\n",
    "    \n",
    "    \n",
    "    (rate,sig) = wav.read(filepath)\n",
    "    mfcc_feat = mfcc(sig,rate)\n",
    "    data = mfcc_feat[:len(mfcc_feat)//(200)*200].reshape(1,-1).reshape(len(mfcc_feat)//200,200,13)\n",
    "    model = load_model('model/voicelstm-0.9541.hdf5')\n",
    "    pre = model.predict(data)\n",
    "    blue, = sns.color_palette(\"muted\", 1)\n",
    "    x = np.arange(0,len(pre))\n",
    "    y = 1-pre.reshape(1,-1)[0]\n",
    "    fig, ax = plt.subplots(figsize=(30,8))\n",
    "    plt.title('목소리 어색함 분석 차트',fontdict = {'fontsize' : 50})\n",
    "    \n",
    "    stt = pd.DataFrame(stt,columns=['word','start','end'])\n",
    "    df = pd.DataFrame(range(1,len(x)+1),columns=['time'])\n",
    "    df['str'] = ''\n",
    "    for i in range(0,len(stt)):\n",
    "        df['str'][df['time']==stt.loc[i,'start'].astype(int)] = df['str'][df['time']==stt.loc[i,'start'].astype(int)] + stt.loc[i,'word'] \n",
    "    \n",
    "    ax.plot(x, y, color=blue, lw=1.5)\n",
    "    ax.fill_between(x, 0, y, alpha=.3)\n",
    "    ax.set(xlim=(0,None), ylim=(0, None))\n",
    "    s = np.pi/3\n",
    "    for i in range(0,len(df)):\n",
    "        s = s+np.pi/3\n",
    "        yp = y[i]-0.03+np.sin(s)*0.03\n",
    "        if (yp<0):\n",
    "            yp = 0.01\n",
    "        plt.text(x[i]-0.5,yp ,df['str'][i],fontdict={'fontsize':12}) \n",
    "    plt.xlabel('값이 1에 가까울수록 어색함', fontdict={'fontsize':20})\n",
    "    plt.savefig('result/'+savename+date+'/'+savename+date+'voice.png')\n",
    "    print('voicegraph saved in '+'result/'+savename+date+'/'+savename+date+'voice.png')"
   ]
  },
  {
   "cell_type": "code",
   "execution_count": null,
   "metadata": {},
   "outputs": [],
   "source": []
  }
 ],
 "metadata": {
  "kernelspec": {
   "display_name": "Python 3",
   "language": "python",
   "name": "python3"
  },
  "language_info": {
   "codemirror_mode": {
    "name": "ipython",
    "version": 3
   },
   "file_extension": ".py",
   "mimetype": "text/x-python",
   "name": "python",
   "nbconvert_exporter": "python",
   "pygments_lexer": "ipython3",
   "version": "3.6.9"
  }
 },
 "nbformat": 4,
 "nbformat_minor": 2
}
