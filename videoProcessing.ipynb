{
 "cells": [
  {
   "cell_type": "code",
   "execution_count": 1,
   "metadata": {},
   "outputs": [],
   "source": [
    "def videoEdit16000(sourcepath,filepath):\n",
    "    import moviepy.editor as mp\n",
    "    from pydub import AudioSegment\n",
    "    clip = mp.VideoFileClip(sourcepath)\n",
    "    clip.audio.write_audiofile(filepath)\n",
    "    sound = AudioSegment.from_wav(filepath)\n",
    "    sound = sound.set_frame_rate(16000)\n",
    "    sound = sound.set_channels(1)\n",
    "    sound.export(filepath, format=\"wav\")\n",
    "    "
   ]
  },
  {
   "cell_type": "code",
   "execution_count": 2,
   "metadata": {},
   "outputs": [],
   "source": [
    "def videoEdit44100(sourcepath,filepath):\n",
    "    import moviepy.editor as mp\n",
    "    clip = mp.VideoFileClip(sourcepath).subclip()\n",
    "    clip.audio.write_audiofile(filepath)"
   ]
  },
  {
   "cell_type": "code",
   "execution_count": null,
   "metadata": {},
   "outputs": [],
   "source": []
  }
 ],
 "metadata": {
  "kernelspec": {
   "display_name": "Python 3",
   "language": "python",
   "name": "python3"
  },
  "language_info": {
   "codemirror_mode": {
    "name": "ipython",
    "version": 3
   },
   "file_extension": ".py",
   "mimetype": "text/x-python",
   "name": "python",
   "nbconvert_exporter": "python",
   "pygments_lexer": "ipython3",
   "version": "3.7.3"
  }
 },
 "nbformat": 4,
 "nbformat_minor": 2
}
