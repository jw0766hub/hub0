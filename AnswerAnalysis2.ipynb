{
 "cells": [
  {
   "cell_type": "code",
   "execution_count": 1,
   "metadata": {},
   "outputs": [
    {
     "name": "stderr",
     "output_type": "stream",
     "text": [
      "Using TensorFlow backend.\n"
     ]
    },
    {
     "data": {
      "application/vnd.jupyter.widget-view+json": {
       "model_id": "2489fb9a97024689819edf3064f6c839",
       "version_major": 2,
       "version_minor": 0
      },
      "text/plain": [
       "HBox(children=(IntProgress(value=1, bar_style='info', max=1), HTML(value='')))"
      ]
     },
     "metadata": {},
     "output_type": "display_data"
    },
    {
     "name": "stdout",
     "output_type": "stream",
     "text": [
      "\n"
     ]
    }
   ],
   "source": [
    "import pandas as pd\n",
    "import numpy as np\n",
    "from tensorflow.keras.preprocessing.text import Tokenizer\n",
    "from konlpy.tag import Twitter, Kkma\n",
    "import numpy as np\n",
    "from keras.preprocessing import sequence\n",
    "from sklearn.model_selection import train_test_split\n",
    "from keras.utils import np_utils\n",
    "from keras.models import Sequential\n",
    "from keras.layers import Dense, LSTM, Embedding, GRU, Dropout, Conv1D, MaxPooling1D\n",
    "from tqdm import tqdm_notebook as tq\n",
    "from gensim.summarization import summarizer\n",
    "from sklearn.feature_extraction.text import TfidfVectorizer\n",
    "tq().pandas()"
   ]
  },
  {
   "cell_type": "code",
   "execution_count": 58,
   "metadata": {},
   "outputs": [],
   "source": [
    "df1 = pd.read_csv('data/생산_제조.csv',engine='python', index_col=0)\n",
    "df2 = pd.read_csv('data/IT.csv',engine='python', index_col=0)\n",
    "df3 = pd.read_csv('data/경영사무.csv',engine='python', index_col=0)\n",
    "df4 = pd.read_csv('data/무역유통.csv',engine='python', index_col=0)\n",
    "df5 = pd.read_csv('data/영업_고객상담.csv',engine='python', index_col=0)"
   ]
  },
  {
   "cell_type": "code",
   "execution_count": 59,
   "metadata": {},
   "outputs": [
    {
     "data": {
      "text/html": [
       "<div>\n",
       "<style scoped>\n",
       "    .dataframe tbody tr th:only-of-type {\n",
       "        vertical-align: middle;\n",
       "    }\n",
       "\n",
       "    .dataframe tbody tr th {\n",
       "        vertical-align: top;\n",
       "    }\n",
       "\n",
       "    .dataframe thead th {\n",
       "        text-align: right;\n",
       "    }\n",
       "</style>\n",
       "<table border=\"1\" class=\"dataframe\">\n",
       "  <thead>\n",
       "    <tr style=\"text-align: right;\">\n",
       "      <th></th>\n",
       "      <th>회사</th>\n",
       "      <th>질문</th>\n",
       "      <th>답</th>\n",
       "      <th>직무</th>\n",
       "    </tr>\n",
       "  </thead>\n",
       "  <tbody>\n",
       "    <tr>\n",
       "      <th>1</th>\n",
       "      <td>S-OIL㈜</td>\n",
       "      <td>귀하가 지원한 직무를 지원한 동기가 무엇이고 희망직무와 관련된 본인의 경험 또는 노...</td>\n",
       "      <td>\\n답변\\n\\n**식품, 택배 등 다양한 아르바이트를 하며 제품 생산에서부터 포장,...</td>\n",
       "      <td>생산_제조</td>\n",
       "    </tr>\n",
       "    <tr>\n",
       "      <th>2</th>\n",
       "      <td>S-OIL㈜</td>\n",
       "      <td>대학생활 중 가장 뛰어난 성과를 거두었던 경험이 무엇이었으며, 그 과정에서 어떠한 ...</td>\n",
       "      <td>\\n답변\\n\\n[`함께`라는 의미]\\n 올해 4월, 현재 소속된 봉사단 `Y-smu...</td>\n",
       "      <td>생산_제조</td>\n",
       "    </tr>\n",
       "    <tr>\n",
       "      <th>3</th>\n",
       "      <td>S-OIL㈜</td>\n",
       "      <td>귀하가 경험했던 가장 어려웠던 일이 무엇이었으며, 그것을 극복하기 위하여 어떤 노력...</td>\n",
       "      <td>\\n답변\\n\\n1학년 때 가입한 동아리 `새앎터`가 있습니다. 하지만 군대에 있을 ...</td>\n",
       "      <td>생산_제조</td>\n",
       "    </tr>\n",
       "    <tr>\n",
       "      <th>4</th>\n",
       "      <td>S-OIL㈜</td>\n",
       "      <td>타인과의 협업 과정에서 나타나는 본인의 장점 및 단점, 단점을 극복하기 위한 노력 ...</td>\n",
       "      <td>\\n답변\\n\\n동아리 회장, 봉사활동 팀장 다양한 직책을 맡았습니다. 정기적인 회의...</td>\n",
       "      <td>생산_제조</td>\n",
       "    </tr>\n",
       "    <tr>\n",
       "      <th>5</th>\n",
       "      <td>S-OIL㈜</td>\n",
       "      <td>소위 말하는 스펙(학교, 학점, 전공, 어학점수 등)을 제외하고 S-OIL이 귀하를...</td>\n",
       "      <td>\\n답변\\n\\nSpecialized\\n`생산자동화` 과제로 생산라인을 만들었습니다....</td>\n",
       "      <td>생산_제조</td>\n",
       "    </tr>\n",
       "  </tbody>\n",
       "</table>\n",
       "</div>"
      ],
      "text/plain": [
       "       회사                                                 질문  \\\n",
       "1  S-OIL㈜  귀하가 지원한 직무를 지원한 동기가 무엇이고 희망직무와 관련된 본인의 경험 또는 노...   \n",
       "2  S-OIL㈜  대학생활 중 가장 뛰어난 성과를 거두었던 경험이 무엇이었으며, 그 과정에서 어떠한 ...   \n",
       "3  S-OIL㈜  귀하가 경험했던 가장 어려웠던 일이 무엇이었으며, 그것을 극복하기 위하여 어떤 노력...   \n",
       "4  S-OIL㈜  타인과의 협업 과정에서 나타나는 본인의 장점 및 단점, 단점을 극복하기 위한 노력 ...   \n",
       "5  S-OIL㈜  소위 말하는 스펙(학교, 학점, 전공, 어학점수 등)을 제외하고 S-OIL이 귀하를...   \n",
       "\n",
       "                                                   답     직무  \n",
       "1  \\n답변\\n\\n**식품, 택배 등 다양한 아르바이트를 하며 제품 생산에서부터 포장,...  생산_제조  \n",
       "2  \\n답변\\n\\n[`함께`라는 의미]\\n 올해 4월, 현재 소속된 봉사단 `Y-smu...  생산_제조  \n",
       "3  \\n답변\\n\\n1학년 때 가입한 동아리 `새앎터`가 있습니다. 하지만 군대에 있을 ...  생산_제조  \n",
       "4  \\n답변\\n\\n동아리 회장, 봉사활동 팀장 다양한 직책을 맡았습니다. 정기적인 회의...  생산_제조  \n",
       "5  \\n답변\\n\\nSpecialized\\n`생산자동화` 과제로 생산라인을 만들었습니다....  생산_제조  "
      ]
     },
     "execution_count": 59,
     "metadata": {},
     "output_type": "execute_result"
    }
   ],
   "source": [
    "df1.tail()"
   ]
  },
  {
   "cell_type": "code",
   "execution_count": 60,
   "metadata": {},
   "outputs": [],
   "source": [
    "df = pd.concat([df1,df2,df3,df4,df5])"
   ]
  },
  {
   "cell_type": "code",
   "execution_count": 61,
   "metadata": {},
   "outputs": [],
   "source": [
    "df = df.reset_index()"
   ]
  },
  {
   "cell_type": "code",
   "execution_count": 62,
   "metadata": {},
   "outputs": [],
   "source": [
    "df['직무']=df['직무'].replace('생산_제조',1)\n",
    "df['직무']=df['직무'].replace('IT',2)\n",
    "df['직무']=df['직무'].replace('경영_사무',3)\n",
    "df['직무']=df['직무'].replace('무역_유통',4)\n",
    "df['직무']=df['직무'].replace('영업_고객상담',5)"
   ]
  },
  {
   "cell_type": "code",
   "execution_count": 63,
   "metadata": {},
   "outputs": [],
   "source": [
    "df['답']=df['답'].str.replace(\"\\n\",\" \")\n",
    "df['답']=df['답'].str.replace(\"답변\",\"\")\n",
    "df['답']=df['답'].str.replace('\"',\"\")\n",
    "df['답']=df['답'].str.replace('아쉬운점',\"\")\n",
    "df['답']=df['답'].str.replace('좋은점',\"\")\n",
    "df['답']=df['답'].str.replace('1',\"\")\n",
    "df['답']=df['답'].str.replace('2',\"\")\n",
    "df['답']=df['답'].str.replace('3',\"\")\n",
    "df['답']=df['답'].str.replace('4',\"\")\n",
    "df['답']=df['답'].str.replace('5',\"\")\n",
    "df['답']=df['답'].str.replace('자',\"\")\n",
    "df['답']=df['답'].str.replace('Byte',\"\")\n",
    "df['답']=df['답'].str.replace('#',\"\")\n"
   ]
  },
  {
   "cell_type": "code",
   "execution_count": 64,
   "metadata": {},
   "outputs": [
    {
     "data": {
      "text/plain": [
       "array([1, 2, 3, 4, 5], dtype=int64)"
      ]
     },
     "execution_count": 64,
     "metadata": {},
     "output_type": "execute_result"
    }
   ],
   "source": [
    "np.unique(df['직무'])"
   ]
  },
  {
   "cell_type": "code",
   "execution_count": 65,
   "metadata": {},
   "outputs": [
    {
     "data": {
      "text/plain": [
       "11250"
      ]
     },
     "execution_count": 65,
     "metadata": {},
     "output_type": "execute_result"
    }
   ],
   "source": [
    "df = df[df['답'].apply(len)>500]\n",
    "len(df)"
   ]
  },
  {
   "cell_type": "code",
   "execution_count": 66,
   "metadata": {},
   "outputs": [],
   "source": [
    "#df['Answer'] = df['답'].copy()\n",
    "#\n",
    "#for i in tq(range(len(df['Answer']))):\n",
    "#    try:\n",
    "#        for j in [0.8,0.6,0.4,0.2]:\n",
    "#            summ = []\n",
    "#            summ = summarizer.summarize(df['답'].iloc[i],ratio=j)\n",
    "#            if(len(summ)<=100):\n",
    "#                df['Answer'].iloc[i] = summ\n",
    "#                break\n",
    "#    except ValueError:\n",
    "#        pass"
   ]
  },
  {
   "cell_type": "code",
   "execution_count": 67,
   "metadata": {},
   "outputs": [
    {
     "data": {
      "application/vnd.jupyter.widget-view+json": {
       "model_id": "8bbcb979192043f6982f1f657d848398",
       "version_major": 2,
       "version_minor": 0
      },
      "text/plain": [
       "HBox(children=(IntProgress(value=0, max=11250), HTML(value='')))"
      ]
     },
     "metadata": {},
     "output_type": "display_data"
    },
    {
     "name": "stderr",
     "output_type": "stream",
     "text": [
      "C:\\Users\\smhrd08\\Anaconda3\\lib\\site-packages\\pandas\\core\\indexing.py:190: SettingWithCopyWarning: \n",
      "A value is trying to be set on a copy of a slice from a DataFrame\n",
      "\n",
      "See the caveats in the documentation: http://pandas.pydata.org/pandas-docs/stable/indexing.html#indexing-view-versus-copy\n",
      "  self._setitem_with_indexer(indexer, value)\n"
     ]
    },
    {
     "name": "stdout",
     "output_type": "stream",
     "text": [
      "\n"
     ]
    }
   ],
   "source": [
    "df['Answer'] = df['답'].copy()\n",
    "\n",
    "for i in tq(range(len(df['Answer']))):\n",
    "    try:\n",
    "        summ = []\n",
    "        summ = summarizer.summarize(df['답'].iloc[i],word_count=100)\n",
    "        df['Answer'].iloc[i] = summ\n",
    "    except ValueError:\n",
    "        pass"
   ]
  },
  {
   "cell_type": "code",
   "execution_count": 68,
   "metadata": {
    "scrolled": true
   },
   "outputs": [
    {
     "name": "stderr",
     "output_type": "stream",
     "text": [
      "C:\\Users\\smhrd08\\Anaconda3\\lib\\site-packages\\jpype\\_core.py:210: UserWarning: \n",
      "-------------------------------------------------------------------------------\n",
      "Deprecated: convertStrings was not specified when starting the JVM. The default\n",
      "behavior in JPype will be False starting in JPype 0.8. The recommended setting\n",
      "for new code is convertStrings=False.  The legacy value of True was assumed for\n",
      "this session. If you are a user of an application that reported this warning,\n",
      "please file a ticket with the developer.\n",
      "-------------------------------------------------------------------------------\n",
      "\n",
      "  \"\"\")\n",
      "C:\\Users\\smhrd08\\Anaconda3\\lib\\site-packages\\konlpy\\tag\\_okt.py:16: UserWarning: \"Twitter\" has changed to \"Okt\" since KoNLPy v0.4.5.\n",
      "  warn('\"Twitter\" has changed to \"Okt\" since KoNLPy v0.4.5.')\n"
     ]
    }
   ],
   "source": [
    "kkma = Kkma()\n",
    "twitter = Twitter()"
   ]
  },
  {
   "cell_type": "code",
   "execution_count": 69,
   "metadata": {},
   "outputs": [
    {
     "data": {
      "application/vnd.jupyter.widget-view+json": {
       "model_id": "75df9047fc3b4313a6ffb6c190a55d10",
       "version_major": 2,
       "version_minor": 0
      },
      "text/plain": [
       "HBox(children=(IntProgress(value=0, max=11250), HTML(value='')))"
      ]
     },
     "metadata": {},
     "output_type": "display_data"
    },
    {
     "name": "stdout",
     "output_type": "stream",
     "text": [
      "\n"
     ]
    }
   ],
   "source": [
    "df['Answer1'] = df['Answer'].progress_apply(kkma.nouns)"
   ]
  },
  {
   "cell_type": "code",
   "execution_count": 70,
   "metadata": {},
   "outputs": [
    {
     "data": {
      "application/vnd.jupyter.widget-view+json": {
       "model_id": "4ace6c092e4e416eb64512f2f5056567",
       "version_major": 2,
       "version_minor": 0
      },
      "text/plain": [
       "HBox(children=(IntProgress(value=0, max=11250), HTML(value='')))"
      ]
     },
     "metadata": {},
     "output_type": "display_data"
    },
    {
     "name": "stdout",
     "output_type": "stream",
     "text": [
      "\n"
     ]
    }
   ],
   "source": [
    "df['Answer2'] = df['Answer'].progress_apply(twitter.nouns)"
   ]
  },
  {
   "cell_type": "code",
   "execution_count": 71,
   "metadata": {},
   "outputs": [
    {
     "data": {
      "application/vnd.jupyter.widget-view+json": {
       "model_id": "ce1d931d769e44ecac77a3a62ba1c9a2",
       "version_major": 2,
       "version_minor": 0
      },
      "text/plain": [
       "HBox(children=(IntProgress(value=0, max=11250), HTML(value='')))"
      ]
     },
     "metadata": {},
     "output_type": "display_data"
    },
    {
     "name": "stdout",
     "output_type": "stream",
     "text": [
      "\n"
     ]
    }
   ],
   "source": [
    "df['Answer3'] = np.nan\n",
    "for i in tq(range(len(df))):\n",
    "    df['Answer3'].iloc[i] = list(set(df['Answer1'].iloc[i]).intersection(df['Answer2'].iloc[i]))"
   ]
  },
  {
   "cell_type": "code",
   "execution_count": 72,
   "metadata": {},
   "outputs": [],
   "source": [
    "df = pd.read_csv('asdf.csv',engine='python', index_col=0)"
   ]
  },
  {
   "cell_type": "code",
   "execution_count": 73,
   "metadata": {},
   "outputs": [],
   "source": [
    "X_data = df['Answer3'].copy()\n",
    "y_data = df['직무']"
   ]
  },
  {
   "cell_type": "code",
   "execution_count": 74,
   "metadata": {
    "scrolled": true
   },
   "outputs": [
    {
     "name": "stdout",
     "output_type": "stream",
     "text": [
      "[[325, 59, 118, 51, 375, 396, 339, 308, 969, 141, 3, 1504, 278, 89, 336, 137, 23, 303, 194, 1437, 290, 48, 8, 471, 430, 714, 1562, 37, 304, 205, 221, 228, 475, 567, 60, 21, 145, 111, 163, 489, 79, 698, 27, 38, 109, 64, 748, 208, 348, 280, 419, 168, 13, 1, 32, 17, 16, 547, 14, 1281, 946, 24, 238, 10, 70, 469, 1624, 803, 1760, 2636, 92, 326, 36, 71, 19, 5, 40, 314, 11, 1132, 121, 286, 226, 3962, 994, 523, 18, 125], [305, 51, 375, 3963, 2502, 141, 3, 1504, 89, 1783, 405, 108, 303, 726, 102, 1437, 76, 8, 354, 135, 1984, 1562, 445, 104, 1864, 686, 551, 174, 228, 96, 235, 567, 376, 206, 60, 95, 65, 489, 1713, 251, 29, 79, 698, 38, 144, 748, 208, 2569, 1485, 2570, 8207, 86, 3805, 1, 32, 43, 491, 52, 2398, 1438, 424, 184, 886, 201, 412, 53, 676, 25, 670, 374, 662, 985, 2956, 1056, 185, 1270, 10, 146, 70, 49, 41, 768, 961, 169, 67, 1760, 197, 2783, 379, 69, 595, 19, 7, 5, 40, 1607, 105, 573, 107, 47, 1761, 254, 1865, 1034, 359, 258, 151, 302, 431, 523, 18]]\n"
     ]
    }
   ],
   "source": [
    "tokenizer = Tokenizer()\n",
    "tokenizer.fit_on_texts(X_data) \n",
    "sequences = tokenizer.texts_to_sequences(X_data) \n",
    "print(sequences[:2])"
   ]
  },
  {
   "cell_type": "code",
   "execution_count": 75,
   "metadata": {},
   "outputs": [
    {
     "name": "stdout",
     "output_type": "stream",
     "text": [
      "14528\n"
     ]
    }
   ],
   "source": [
    "word_to_index = tokenizer.word_index\n",
    "print(max(word_to_index.values()))"
   ]
  },
  {
   "cell_type": "code",
   "execution_count": 76,
   "metadata": {},
   "outputs": [
    {
     "name": "stdout",
     "output_type": "stream",
     "text": [
      "최대 길이 2054\n",
      "평균 길이 : 276.978207\n"
     ]
    }
   ],
   "source": [
    "maxlen = max(len(l) for l in X_data)\n",
    "print('최대 길이',maxlen)\n",
    "print('평균 길이 : %f' % (sum(map(len, X_data))/len(X_data)))"
   ]
  },
  {
   "cell_type": "code",
   "execution_count": 77,
   "metadata": {},
   "outputs": [],
   "source": [
    "X_train, X_test, y_train, y_test = train_test_split(sequences,y_data.tolist(), test_size=0.3, random_state=1234,shuffle=True, stratify= y_data.values)"
   ]
  },
  {
   "cell_type": "code",
   "execution_count": 78,
   "metadata": {},
   "outputs": [
    {
     "name": "stdout",
     "output_type": "stream",
     "text": [
      "9379 9379\n"
     ]
    }
   ],
   "source": [
    "print(len(X_train),len(y_train))"
   ]
  },
  {
   "cell_type": "code",
   "execution_count": 79,
   "metadata": {},
   "outputs": [],
   "source": [
    "X_train_seq = sequence.pad_sequences(X_train, maxlen=maxlen)\n",
    "X_test_seq = sequence.pad_sequences(X_test, maxlen=maxlen)"
   ]
  },
  {
   "cell_type": "code",
   "execution_count": 80,
   "metadata": {},
   "outputs": [],
   "source": [
    "y_train_ctg = np_utils.to_categorical(y_train)\n",
    "y_test_ctg = np_utils.to_categorical(y_test)"
   ]
  },
  {
   "cell_type": "code",
   "execution_count": 81,
   "metadata": {},
   "outputs": [],
   "source": [
    "lstm_model = Sequential()\n",
    "lstm_model.add(Embedding(max(word_to_index.values())+1, 100,input_length=maxlen))\n",
    "lstm_model.add(Conv1D(filters=32,kernel_size=5,padding=\"same\",activation='relu'))\n",
    "lstm-model.add(MaxPooling1D(pool_size=2))\n",
    "lstm_model.add(LSTM(100, activation='relu'))\n",
    "lstm_model.add(Dropout(0.2))\n",
    "lstm_model.add(Dense(20, activation='relu'))\n",
    "lstm_model.add(Dense(6, activation='softmax'))\n",
    "lstm_model.compile(loss='categorical_crossentropy',optimizer='adam',metrics=['accuracy'])"
   ]
  },
  {
   "cell_type": "code",
   "execution_count": null,
   "metadata": {},
   "outputs": [
    {
     "name": "stdout",
     "output_type": "stream",
     "text": [
      "Train on 9379 samples, validate on 4020 samples\n",
      "Epoch 1/20\n",
      " - 575s - loss: 1.3892 - accuracy: 0.4407 - val_loss: 1.1868 - val_accuracy: 0.5527\n",
      "Epoch 2/20\n"
     ]
    }
   ],
   "source": [
    "lstm_history = lstm_model.fit(X_train_seq, y_train_ctg, verbose=2,\n",
    "                    epochs=20,validation_data=(X_test_seq, y_test_ctg))"
   ]
  },
  {
   "cell_type": "code",
   "execution_count": null,
   "metadata": {},
   "outputs": [],
   "source": [
    "#gru_model = Sequential()\n",
    "#gru_model.add(Embedding(17257, 1000))\n",
    "#gru_model.add(GRU(1000, activation='tanh'))\n",
    "#gru_model.add(Dense(100, activation='linear'))\n",
    "#gru_model.add(Dense(6, activation='softmax'))\n",
    "#gru_model.compile(loss='categorical_crossentropy',optimizer='adam',metrics=['accuracy'])"
   ]
  },
  {
   "cell_type": "code",
   "execution_count": null,
   "metadata": {},
   "outputs": [],
   "source": [
    "#gru_history = gru_model.fit(X_train_seq, y_train_ctg, batch_size=64, \n",
    "#                    epochs=20,validation_data=(X_test_seq, y_test_ctg))"
   ]
  },
  {
   "cell_type": "code",
   "execution_count": null,
   "metadata": {},
   "outputs": [],
   "source": []
  }
 ],
 "metadata": {
  "kernelspec": {
   "display_name": "Python 3",
   "language": "python",
   "name": "python3"
  },
  "language_info": {
   "codemirror_mode": {
    "name": "ipython",
    "version": 3
   },
   "file_extension": ".py",
   "mimetype": "text/x-python",
   "name": "python",
   "nbconvert_exporter": "python",
   "pygments_lexer": "ipython3",
   "version": "3.7.3"
  }
 },
 "nbformat": 4,
 "nbformat_minor": 2
}
