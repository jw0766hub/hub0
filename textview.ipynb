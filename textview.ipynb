{
 "cells": [
  {
   "cell_type": "code",
   "execution_count": 1,
   "metadata": {},
   "outputs": [],
   "source": [
    "def maketext(stt,savename,date):\n",
    "    import numpy as np\n",
    "    arr = np.array(stt)\n",
    "    t = ' '.join(arr[:,0])\n",
    "    def split_len(seq, length):\n",
    "        return [seq[i:i+length] for i in range(0, len(seq), length)]\n",
    "    n=40\n",
    "    T = split_len(t,n)\n",
    "    import matplotlib.pyplot as plt\n",
    "    fig = plt.figure(figsize=(n/3,len(T)/1.5))\n",
    "    for i in range(0,len(T)):\n",
    "        plt.text(0.05,i/len(T)+0.02,T[len(T)-i-1],fontdict = {'fontsize' : 20})\n",
    "    plt.xticks([],[])\n",
    "    plt.yticks([],[])\n",
    "    plt.savefig('result/'+savename+date+'/'+savename+date+'textview.png')\n",
    "    print('textview saved in '+'result/'+savename+date+'/'+savename+date+'text.png')"
   ]
  },
  {
   "cell_type": "code",
   "execution_count": null,
   "metadata": {},
   "outputs": [],
   "source": []
  }
 ],
 "metadata": {
  "kernelspec": {
   "display_name": "Python 3",
   "language": "python",
   "name": "python3"
  },
  "language_info": {
   "codemirror_mode": {
    "name": "ipython",
    "version": 3
   },
   "file_extension": ".py",
   "mimetype": "text/x-python",
   "name": "python",
   "nbconvert_exporter": "python",
   "pygments_lexer": "ipython3",
   "version": "3.6.9"
  }
 },
 "nbformat": 4,
 "nbformat_minor": 2
}
