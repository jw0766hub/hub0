{
 "cells": [
  {
   "cell_type": "code",
   "execution_count": 9,
   "metadata": {},
   "outputs": [
    {
     "name": "stdout",
     "output_type": "stream",
     "text": [
      "Importing Jupyter notebook from STT.ipynb\n"
     ]
    }
   ],
   "source": [
    "import nbimporter\n",
    "from keras.models import load_model\n",
    "import STT\n"
   ]
  },
  {
   "cell_type": "code",
   "execution_count": 5,
   "metadata": {},
   "outputs": [
    {
     "name": "stdout",
     "output_type": "stream",
     "text": [
      "WARNING:tensorflow:From C:\\Users\\smhrd08\\Anaconda3\\lib\\site-packages\\tensorflow\\python\\ops\\resource_variable_ops.py:435: colocate_with (from tensorflow.python.framework.ops) is deprecated and will be removed in a future version.\n",
      "Instructions for updating:\n",
      "Colocations handled automatically by placer.\n",
      "WARNING:tensorflow:From C:\\Users\\smhrd08\\Anaconda3\\lib\\site-packages\\tensorflow\\python\\ops\\math_ops.py:3066: to_int32 (from tensorflow.python.ops.math_ops) is deprecated and will be removed in a future version.\n",
      "Instructions for updating:\n",
      "Use tf.cast instead.\n"
     ]
    }
   ],
   "source": [
    "model = load_model('model/model7.hdf5')"
   ]
  },
  {
   "cell_type": "code",
   "execution_count": 7,
   "metadata": {},
   "outputs": [],
   "source": [
    "gcipath = \"gs://thirdproj/data/test1.wav\""
   ]
  },
  {
   "cell_type": "code",
   "execution_count": 10,
   "metadata": {},
   "outputs": [],
   "source": [
    "stt = STT.transcribe_gcs_with_word_time_offsets(gcipath)"
   ]
  },
  {
   "cell_type": "code",
   "execution_count": 11,
   "metadata": {},
   "outputs": [
    {
     "data": {
      "text/plain": [
       "[['안녕하세요', 0.0, 1.0],\n",
       " ['경미한', 1.0, 2.8],\n",
       " ['예리', 2.8, 3.1],\n",
       " ['인사담당자', 3.1, 3.9],\n",
       " ['영상입니다', 3.9, 4.6],\n",
       " ['경영학을', 4.6, 6.8],\n",
       " ['전공하고', 6.8, 7.2],\n",
       " ['여러기업', 7.2, 8.3],\n",
       " ['교육', 8.3, 8.6],\n",
       " ['프로그램을', 8.6, 9.1],\n",
       " ['개발', 9.1, 9.4],\n",
       " ['하면서', 9.4, 9.8],\n",
       " ['이론의', 9.8, 10.3],\n",
       " ['폭을', 10.3, 10.7],\n",
       " ['넓혔습니다', 10.7, 11.1],\n",
       " ['n4', 11.1, 12.5],\n",
       " ['인사팀에서', 12.5, 13.1],\n",
       " ['의', 13.1, 13.2],\n",
       " ['새로운', 13.2, 13.5],\n",
       " ['보조와', 13.5, 14.0],\n",
       " ['hid', 14.0, 15.1],\n",
       " ['컨설팅회사의', 15.1, 15.8],\n",
       " ['교육', 15.8, 16.3],\n",
       " ['및', 16.3, 16.5],\n",
       " ['평가', 16.5, 16.8],\n",
       " ['운영을', 16.8, 17.2],\n",
       " ['하면서', 17.2, 17.4],\n",
       " ['실물하고', 17.4, 19.0],\n",
       " ['물론', 19.0, 19.6],\n",
       " ['인사해', 19.6, 20.1],\n",
       " ['서호', 20.1, 20.4],\n",
       " ['통영까지', 20.4, 21.0],\n",
       " ['김다미', 21.0, 21.5],\n",
       " ['얼마나', 21.5, 21.9],\n",
       " ['중요한지', 21.9, 22.5],\n",
       " ['깨닫게', 22.5, 22.9],\n",
       " ['되었습니다', 22.9, 23.3],\n",
       " ['저는', 23.3, 24.7],\n",
       " ['교외학습', 24.7, 25.2],\n",
       " ['모임인', 25.2, 25.9],\n",
       " ['브레이브', 25.9, 26.3],\n",
       " ['his', 26.3, 26.9],\n",
       " ['설립했을', 26.9, 27.4],\n",
       " ['때', 27.4, 27.6],\n",
       " ['팀원들과', 27.6, 28.6],\n",
       " ['함께', 28.6, 28.7],\n",
       " ['소통하며', 28.7, 29.5],\n",
       " ['그에', 29.5, 30.0],\n",
       " ['맞는', 30.0, 30.3],\n",
       " ['hrd', 30.3, 31.0],\n",
       " ['학술지를', 31.0, 31.6],\n",
       " ['3년간', 31.6, 32.2],\n",
       " ['발행한', 32.2, 32.6],\n",
       " ['경험이', 32.6, 32.9],\n",
       " ['있으며', 32.9, 33.3],\n",
       " ['인사동아리랑', 33.3, 35.1],\n",
       " ['최대의', 35.1, 35.9],\n",
       " ['아카데미에서는', 35.9, 36.8],\n",
       " ['조직운영에', 36.8, 38.0],\n",
       " ['어려워서', 38.0, 38.6],\n",
       " ['톡', 38.6, 38.7],\n",
       " ['확인을', 38.7, 39.3],\n",
       " ['복합', 39.3, 40.0],\n",
       " ['대신', 40.0, 40.5],\n",
       " ['tf', 40.5, 40.9],\n",
       " ['를', 40.9, 41.0],\n",
       " ['자발적으로', 41.0, 41.6],\n",
       " ['결성해', 41.6, 42.2],\n",
       " ['일을', 42.2, 42.6],\n",
       " ['해결했던', 42.6, 43.0],\n",
       " ['경험에', 43.0, 43.2],\n",
       " ['있습니다', 43.2, 43.8],\n",
       " ['직무와', 43.8, 45.1],\n",
       " ['속상해', 45.1, 45.5],\n",
       " ['적합도와', 45.5, 46.1],\n",
       " ['전공', 46.1, 46.8],\n",
       " ['및', 46.8, 47.0],\n",
       " ['실무', 47.0, 47.3],\n",
       " ['경험을', 47.3, 47.7],\n",
       " ['토대로', 47.7, 47.9],\n",
       " ['향상에', 47.9, 49.0],\n",
       " ['기여하는', 49.0, 49.6],\n",
       " ['인사담당자가', 49.6, 50.7],\n",
       " ['되겠습니다', 50.7, 51.3],\n",
       " ['감사합니다', 51.3, 51.9]]"
      ]
     },
     "execution_count": 11,
     "metadata": {},
     "output_type": "execute_result"
    }
   ],
   "source": [
    "stt"
   ]
  },
  {
   "cell_type": "code",
   "execution_count": null,
   "metadata": {},
   "outputs": [],
   "source": []
  }
 ],
 "metadata": {
  "kernelspec": {
   "display_name": "Python 3",
   "language": "python",
   "name": "python3"
  },
  "language_info": {
   "codemirror_mode": {
    "name": "ipython",
    "version": 3
   },
   "file_extension": ".py",
   "mimetype": "text/x-python",
   "name": "python",
   "nbconvert_exporter": "python",
   "pygments_lexer": "ipython3",
   "version": "3.7.3"
  }
 },
 "nbformat": 4,
 "nbformat_minor": 2
}
