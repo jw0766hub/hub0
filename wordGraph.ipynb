{
 "cells": [
  {
   "cell_type": "code",
   "execution_count": 1,
   "metadata": {},
   "outputs": [],
   "source": [
    "def makeWordCloud(stt,savename,date):\n",
    "    from collections import Counter\n",
    "    from tensorflow.keras.preprocessing.text import Tokenizer\n",
    "    import pandas as pd\n",
    "    import numpy as np\n",
    "    from ast import literal_eval\n",
    "    import random\n",
    "    import pytagcloud\n",
    "    \n",
    "    stt = pd.DataFrame(stt)\n",
    "    data = stt.iloc[:,0]\n",
    "    \n",
    "    tokenizer = Tokenizer()\n",
    "    tokenizer.fit_on_texts(data) \n",
    "    sequences = tokenizer.texts_to_sequences(data)     \n",
    "    word_to_index = tokenizer.word_index\n",
    "    \n",
    "    count = Counter(word_to_index)\n",
    "    tag = count.most_common(80)\n",
    "    taglist = pytagcloud.make_tags(tag, maxsize=16)\n",
    "    df = pd.DataFrame(taglist)\n",
    "    df['size'] = ((df['size']-min(df['size'])+1)**(1.6)).astype(int)\n",
    "    taglist2 = df.to_dict('records')\n",
    "    pytagcloud.create_tag_image(taglist2, 'result/'+savename+date+'/'+savename+date+'wordcloud.jpg', size=(800, 600), fontname='korean', rectangular=False)\n",
    "    print('wordcloud saved in '+'result/'+savename+date+'/'+'wordcloud.jpg')"
   ]
  },
  {
   "cell_type": "code",
   "execution_count": null,
   "metadata": {},
   "outputs": [],
   "source": []
  }
 ],
 "metadata": {
  "kernelspec": {
   "display_name": "Python 3",
   "language": "python",
   "name": "python3"
  },
  "language_info": {
   "codemirror_mode": {
    "name": "ipython",
    "version": 3
   },
   "file_extension": ".py",
   "mimetype": "text/x-python",
   "name": "python",
   "nbconvert_exporter": "python",
   "pygments_lexer": "ipython3",
   "version": "3.7.3"
  }
 },
 "nbformat": 4,
 "nbformat_minor": 2
}
